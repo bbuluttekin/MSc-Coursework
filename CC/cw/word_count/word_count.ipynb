{
 "cells": [
  {
   "cell_type": "markdown",
   "metadata": {},
   "source": [
    "# Word Count Examples"
   ]
  },
  {
   "cell_type": "markdown",
   "metadata": {},
   "source": [
    "## Word Count with Pairs pattern"
   ]
  },
  {
   "cell_type": "markdown",
   "metadata": {},
   "source": [
    "Running locally:"
   ]
  },
  {
   "cell_type": "code",
   "execution_count": 1,
   "metadata": {
    "scrolled": true
   },
   "outputs": [
    {
     "name": "stdout",
     "output_type": "stream",
     "text": [
      "Using configs in /Users/Baran/.mrjob.conf\n",
      "No configs specified for local runner\n",
      "Creating temp directory /var/folders/r7/428czl1x409_xdrj8zycbkyh0000gn/T/word_count_pairs.Baran.20190414.134406.427665\n",
      "Running step 1 of 2...\n",
      "Running step 2 of 2...\n",
      "job output is in word_count_out\n",
      "Removing temp directory /var/folders/r7/428czl1x409_xdrj8zycbkyh0000gn/T/word_count_pairs.Baran.20190414.134406.427665...\n"
     ]
    }
   ],
   "source": [
    "#Clean up the previous output folder\n",
    "!rm -rf word_count_out/\n",
    "#Running the script outputting to word_count_out/\n",
    "!python word_count_pairs.py -r local shortjokes.csv --output-dir=word_count_out --no-output"
   ]
  },
  {
   "cell_type": "markdown",
   "metadata": {},
   "source": [
    "Output of the script is the two consecutive word fallowed by probability."
   ]
  },
  {
   "cell_type": "code",
   "execution_count": 2,
   "metadata": {},
   "outputs": [
    {
     "name": "stdout",
     "output_type": "stream",
     "text": [
      "[\"my\", \"wife\"]\t0.05508030513514172\r\n",
      "[\"my\", \"girlfriend\"]\t0.04006726621335088\r\n",
      "[\"my\", \"friend\"]\t0.02951426969852063\r\n",
      "[\"my\", \"women\"]\t0.017474592381370183\r\n",
      "[\"my\", \"dad\"]\t0.016207257926933293\r\n",
      "[\"my\", \"coffee\"]\t0.012722088177231848\r\n",
      "[\"my\", \"life\"]\t0.01216153639930784\r\n",
      "[\"my\", \"favorite\"]\t0.012039677317150447\r\n",
      "[\"my\", \"mom\"]\t0.011211035558480173\r\n",
      "[\"my\", \"son\"]\t0.011040432843459824\r\n"
     ]
    }
   ],
   "source": [
    "# Output\n",
    "!cat word_count_out/part-00000"
   ]
  },
  {
   "cell_type": "code",
   "execution_count": 3,
   "metadata": {},
   "outputs": [
    {
     "name": "stdout",
     "output_type": "stream",
     "text": [
      "Using configs in /Users/Baran/.mrjob.conf\n",
      "No configs specified for local runner\n",
      "Creating temp directory /var/folders/r7/428czl1x409_xdrj8zycbkyh0000gn/T/word_count_stripes.Baran.20190414.134419.834927\n",
      "Running step 1 of 2...\n",
      "Running step 2 of 2...\n",
      "job output is in word_count_out\n",
      "Removing temp directory /var/folders/r7/428czl1x409_xdrj8zycbkyh0000gn/T/word_count_stripes.Baran.20190414.134419.834927...\n"
     ]
    }
   ],
   "source": [
    "#Clean up the previous output folder\n",
    "!rm -rf word_count_out/\n",
    "#Running the script outputting to word_count_out/\n",
    "!python word_count_stripes.py -r local shortjokes.csv --output-dir=word_count_out --no-output"
   ]
  },
  {
   "cell_type": "code",
   "execution_count": 4,
   "metadata": {},
   "outputs": [
    {
     "name": "stdout",
     "output_type": "stream",
     "text": [
      "[\"my\", \"wife\"]\t0.05508030513514172\r\n",
      "[\"my\", \"girlfriend\"]\t0.04006726621335088\r\n",
      "[\"my\", \"friend\"]\t0.02951426969852063\r\n",
      "[\"my\", \"women\"]\t0.017474592381370183\r\n",
      "[\"my\", \"dad\"]\t0.016207257926933293\r\n",
      "[\"my\", \"coffee\"]\t0.012722088177231848\r\n",
      "[\"my\", \"life\"]\t0.01216153639930784\r\n",
      "[\"my\", \"favorite\"]\t0.012039677317150447\r\n",
      "[\"my\", \"mom\"]\t0.011211035558480173\r\n",
      "[\"my\", \"son\"]\t0.011040432843459824\r\n"
     ]
    }
   ],
   "source": [
    "# Output\n",
    "!cat word_count_out/part-00000"
   ]
  },
  {
   "cell_type": "markdown",
   "metadata": {},
   "source": [
    "## Running scrip on AWS EMR"
   ]
  },
  {
   "cell_type": "code",
   "execution_count": 5,
   "metadata": {},
   "outputs": [
    {
     "name": "stdout",
     "output_type": "stream",
     "text": [
      "Using configs in /Users/Baran/.mrjob.conf\n",
      "Auto-created temp S3 bucket mrjob-8145e6962ded0a34\n",
      "Using s3://mrjob-8145e6962ded0a34/tmp/ as our temp dir on S3\n",
      "Creating temp directory /var/folders/r7/428czl1x409_xdrj8zycbkyh0000gn/T/word_count_pairs.Baran.20190414.134436.350132\n",
      "writing master bootstrap script to /var/folders/r7/428czl1x409_xdrj8zycbkyh0000gn/T/word_count_pairs.Baran.20190414.134436.350132/b.sh\n",
      "Copying local files to s3://mrjob-8145e6962ded0a34/tmp/word_count_pairs.Baran.20190414.134436.350132/files/...\n",
      "Created new cluster j-1MS941UFFHN1T\n",
      "Added EMR tags to cluster j-1MS941UFFHN1T: __mrjob_label=word_count_pairs, __mrjob_owner=Baran, __mrjob_version=0.6.7\n",
      "Waiting for Step 1 of 2 (s-1MRLH149DCJAS) to complete...\n",
      "  PENDING (cluster is STARTING)\n",
      "  PENDING (cluster is STARTING)\n",
      "  PENDING (cluster is STARTING)\n",
      "  PENDING (cluster is STARTING: Configuring cluster software)\n",
      "  PENDING (cluster is BOOTSTRAPPING: Running bootstrap actions)\n",
      "  PENDING (cluster is BOOTSTRAPPING: Running bootstrap actions)\n",
      "  Connect to resource manager at: http://localhost:40458/cluster\n",
      "  RUNNING for 0:00:08\n",
      "  Oops, ssh subprocess exited with return code 255, restarting...\n",
      "  Connect to resource manager at: http://localhost:40458/cluster\n",
      "  RUNNING for 0:01:55\n",
      "  COMPLETED\n",
      "Attempting to fetch counters from logs...\n",
      "Looking for step log in /mnt/var/log/hadoop/steps/s-1MRLH149DCJAS on ec2-18-203-178-3.eu-west-1.compute.amazonaws.com...\n",
      "Looking for step log in s3://mrjob-8145e6962ded0a34/tmp/logs/j-1MS941UFFHN1T/steps/s-1MRLH149DCJAS...\n",
      "  Parsing step log: s3://mrjob-8145e6962ded0a34/tmp/logs/j-1MS941UFFHN1T/steps/s-1MRLH149DCJAS/syslog.gz\n",
      "Counters: 56\n",
      "\tFile Input Format Counters \n",
      "\t\tBytes Read=24237426\n",
      "\tFile Output Format Counters \n",
      "\t\tBytes Written=129513\n",
      "\tFile System Counters\n",
      "\t\tFILE: Number of bytes read=76497\n",
      "\t\tFILE: Number of bytes written=6337153\n",
      "\t\tFILE: Number of large read operations=0\n",
      "\t\tFILE: Number of read operations=0\n",
      "\t\tFILE: Number of write operations=0\n",
      "\t\tHDFS: Number of bytes read=2256\n",
      "\t\tHDFS: Number of bytes written=129513\n",
      "\t\tHDFS: Number of large read operations=0\n",
      "\t\tHDFS: Number of read operations=81\n",
      "\t\tHDFS: Number of write operations=22\n",
      "\t\tS3: Number of bytes read=24237426\n",
      "\t\tS3: Number of bytes written=0\n",
      "\t\tS3: Number of large read operations=0\n",
      "\t\tS3: Number of read operations=0\n",
      "\t\tS3: Number of write operations=0\n",
      "\tJob Counters \n",
      "\t\tData-local map tasks=25\n",
      "\t\tKilled map tasks=2\n",
      "\t\tKilled reduce tasks=1\n",
      "\t\tLaunched map tasks=25\n",
      "\t\tLaunched reduce tasks=11\n",
      "\t\tTotal megabyte-milliseconds taken by all map tasks=1509719040\n",
      "\t\tTotal megabyte-milliseconds taken by all reduce tasks=320207040\n",
      "\t\tTotal time spent by all map tasks (ms)=1048416\n",
      "\t\tTotal time spent by all maps in occupied slots (ms)=47178720\n",
      "\t\tTotal time spent by all reduce tasks (ms)=111183\n",
      "\t\tTotal time spent by all reduces in occupied slots (ms)=10006470\n",
      "\t\tTotal vcore-milliseconds taken by all map tasks=1048416\n",
      "\t\tTotal vcore-milliseconds taken by all reduce tasks=111183\n",
      "\tMap-Reduce Framework\n",
      "\t\tCPU time spent (ms)=311340\n",
      "\t\tCombine input records=82062\n",
      "\t\tCombine output records=16520\n",
      "\t\tFailed Shuffles=0\n",
      "\t\tGC time elapsed (ms)=15060\n",
      "\t\tInput split bytes=2256\n",
      "\t\tMap input records=231658\n",
      "\t\tMap output bytes=1417948\n",
      "\t\tMap output materialized bytes=188595\n",
      "\t\tMap output records=82062\n",
      "\t\tMerged Map outputs=264\n",
      "\t\tPhysical memory (bytes) snapshot=16471199744\n",
      "\t\tReduce input groups=4686\n",
      "\t\tReduce input records=16520\n",
      "\t\tReduce output records=4686\n",
      "\t\tReduce shuffle bytes=188595\n",
      "\t\tShuffled Maps =264\n",
      "\t\tSpilled Records=33040\n",
      "\t\tTotal committed heap usage (bytes)=15764291584\n",
      "\t\tVirtual memory (bytes) snapshot=127230767104\n",
      "\tShuffle Errors\n",
      "\t\tBAD_ID=0\n",
      "\t\tCONNECTION=0\n",
      "\t\tIO_ERROR=0\n",
      "\t\tWRONG_LENGTH=0\n",
      "\t\tWRONG_MAP=0\n",
      "\t\tWRONG_REDUCE=0\n",
      "Waiting for Step 2 of 2 (s-2U25QGNXJ3FWU) to complete...\n",
      "  COMPLETED\n",
      "Attempting to fetch counters from logs...\n",
      "Looking for step log in /mnt/var/log/hadoop/steps/s-2U25QGNXJ3FWU on ec2-18-203-178-3.eu-west-1.compute.amazonaws.com...\n",
      "Looking for step log in s3://mrjob-8145e6962ded0a34/tmp/logs/j-1MS941UFFHN1T/steps/s-2U25QGNXJ3FWU...\n",
      "  Parsing step log: s3://mrjob-8145e6962ded0a34/tmp/logs/j-1MS941UFFHN1T/steps/s-2U25QGNXJ3FWU/syslog.gz\n",
      "Counters: 57\n",
      "\tFile Input Format Counters \n",
      "\t\tBytes Read=210044\n",
      "\tFile Output Format Counters \n",
      "\t\tBytes Written=368\n",
      "\tFile System Counters\n",
      "\t\tFILE: Number of bytes read=45124\n",
      "\t\tFILE: Number of bytes written=7372416\n",
      "\t\tFILE: Number of large read operations=0\n",
      "\t\tFILE: Number of read operations=0\n",
      "\t\tFILE: Number of write operations=0\n",
      "\t\tHDFS: Number of bytes read=215934\n",
      "\t\tHDFS: Number of bytes written=0\n",
      "\t\tHDFS: Number of large read operations=0\n",
      "\t\tHDFS: Number of read operations=62\n",
      "\t\tHDFS: Number of write operations=0\n",
      "\t\tS3: Number of bytes read=0\n",
      "\t\tS3: Number of bytes written=368\n",
      "\t\tS3: Number of large read operations=0\n",
      "\t\tS3: Number of read operations=0\n",
      "\t\tS3: Number of write operations=0\n",
      "\tJob Counters \n",
      "\t\tData-local map tasks=30\n",
      "\t\tKilled map tasks=2\n",
      "\t\tKilled reduce tasks=1\n",
      "\t\tLaunched map tasks=31\n",
      "\t\tLaunched reduce tasks=11\n",
      "\t\tRack-local map tasks=1\n",
      "\t\tTotal megabyte-milliseconds taken by all map tasks=1285886880\n",
      "\t\tTotal megabyte-milliseconds taken by all reduce tasks=638369280\n",
      "\t\tTotal time spent by all map tasks (ms)=892977\n",
      "\t\tTotal time spent by all maps in occupied slots (ms)=40183965\n",
      "\t\tTotal time spent by all reduce tasks (ms)=221656\n",
      "\t\tTotal time spent by all reduces in occupied slots (ms)=19949040\n",
      "\t\tTotal vcore-milliseconds taken by all map tasks=892977\n",
      "\t\tTotal vcore-milliseconds taken by all reduce tasks=221656\n",
      "\tMap-Reduce Framework\n",
      "\t\tCPU time spent (ms)=77060\n",
      "\t\tCombine input records=0\n",
      "\t\tCombine output records=0\n",
      "\t\tFailed Shuffles=0\n",
      "\t\tGC time elapsed (ms)=20031\n",
      "\t\tInput split bytes=5890\n",
      "\t\tMap input records=4686\n",
      "\t\tMap output bytes=134199\n",
      "\t\tMap output materialized bytes=60995\n",
      "\t\tMap output records=4686\n",
      "\t\tMerged Map outputs=341\n",
      "\t\tPhysical memory (bytes) snapshot=22058696704\n",
      "\t\tReduce input groups=4686\n",
      "\t\tReduce input records=4686\n",
      "\t\tReduce output records=10\n",
      "\t\tReduce shuffle bytes=60995\n",
      "\t\tShuffled Maps =341\n",
      "\t\tSpilled Records=9372\n",
      "\t\tTotal committed heap usage (bytes)=21307588608\n",
      "\t\tVirtual memory (bytes) snapshot=150223441920\n",
      "\tShuffle Errors\n",
      "\t\tBAD_ID=0\n",
      "\t\tCONNECTION=0\n",
      "\t\tIO_ERROR=0\n",
      "\t\tWRONG_LENGTH=0\n",
      "\t\tWRONG_MAP=0\n",
      "\t\tWRONG_REDUCE=0\n",
      "job output is in s3://baran-word-count/word_count_pairs_out/\n",
      "Removing s3 temp directory s3://mrjob-8145e6962ded0a34/tmp/word_count_pairs.Baran.20190414.134436.350132/...\n",
      "Removing temp directory /var/folders/r7/428czl1x409_xdrj8zycbkyh0000gn/T/word_count_pairs.Baran.20190414.134436.350132...\n",
      "Removing log files in s3://mrjob-8145e6962ded0a34/tmp/logs/j-1MS941UFFHN1T/...\n",
      "Terminating cluster: j-1MS941UFFHN1T\n"
     ]
    }
   ],
   "source": [
    "# Pairs\n",
    "!python word_count_pairs.py -r emr s3://baran-word-count/input/shortjokes.csv --output-dir=s3://baran-word-count/word_count_pairs_out --no-output"
   ]
  },
  {
   "cell_type": "code",
   "execution_count": 6,
   "metadata": {},
   "outputs": [
    {
     "name": "stdout",
     "output_type": "stream",
     "text": [
      "Using configs in /Users/Baran/.mrjob.conf\n",
      "Using s3://mrjob-8145e6962ded0a34/tmp/ as our temp dir on S3\n",
      "Creating temp directory /var/folders/r7/428czl1x409_xdrj8zycbkyh0000gn/T/word_count_stripes.Baran.20190414.135633.197043\n",
      "writing master bootstrap script to /var/folders/r7/428czl1x409_xdrj8zycbkyh0000gn/T/word_count_stripes.Baran.20190414.135633.197043/b.sh\n",
      "Copying local files to s3://mrjob-8145e6962ded0a34/tmp/word_count_stripes.Baran.20190414.135633.197043/files/...\n",
      "Created new cluster j-1KJQ5O7654RXK\n",
      "Added EMR tags to cluster j-1KJQ5O7654RXK: __mrjob_label=word_count_stripes, __mrjob_owner=Baran, __mrjob_version=0.6.7\n",
      "Waiting for Step 1 of 2 (s-1GQGU24RYDCXO) to complete...\n",
      "  PENDING (cluster is STARTING)\n",
      "  PENDING (cluster is STARTING)\n",
      "  PENDING (cluster is STARTING)\n",
      "  PENDING (cluster is STARTING: Configuring cluster software)\n",
      "  PENDING (cluster is BOOTSTRAPPING: Running bootstrap actions)\n",
      "  PENDING (cluster is BOOTSTRAPPING: Running bootstrap actions)\n",
      "  PENDING (cluster is BOOTSTRAPPING: Running bootstrap actions)\n",
      "  Connect to resource manager at: http://localhost:40586/cluster\n",
      "  RUNNING for 0:00:07\n",
      "  COMPLETED\n",
      "Attempting to fetch counters from logs...\n",
      "Looking for step log in /mnt/var/log/hadoop/steps/s-1GQGU24RYDCXO on ec2-34-245-166-22.eu-west-1.compute.amazonaws.com...\n",
      "Waiting 10 minutes for logs to transfer to S3... (ctrl-c to skip)\n",
      "Looking for step log in s3://mrjob-8145e6962ded0a34/tmp/logs/j-1KJQ5O7654RXK/steps/s-1GQGU24RYDCXO...\n",
      "  Parsing step log: s3://mrjob-8145e6962ded0a34/tmp/logs/j-1KJQ5O7654RXK/steps/s-1GQGU24RYDCXO/syslog.gz\n",
      "Counters: 55\n",
      "\tFile Input Format Counters \n",
      "\t\tBytes Read=24232810\n",
      "\tFile Output Format Counters \n",
      "\t\tBytes Written=92014\n",
      "\tFile System Counters\n",
      "\t\tFILE: Number of bytes read=68428\n",
      "\t\tFILE: Number of bytes written=6316138\n",
      "\t\tFILE: Number of large read operations=0\n",
      "\t\tFILE: Number of read operations=0\n",
      "\t\tFILE: Number of write operations=0\n",
      "\t\tHDFS: Number of bytes read=2256\n",
      "\t\tHDFS: Number of bytes written=92014\n",
      "\t\tHDFS: Number of large read operations=0\n",
      "\t\tHDFS: Number of read operations=81\n",
      "\t\tHDFS: Number of write operations=22\n",
      "\t\tS3: Number of bytes read=24232810\n",
      "\t\tS3: Number of bytes written=0\n",
      "\t\tS3: Number of large read operations=0\n",
      "\t\tS3: Number of read operations=0\n",
      "\t\tS3: Number of write operations=0\n",
      "\tJob Counters \n",
      "\t\tData-local map tasks=25\n",
      "\t\tKilled map tasks=2\n",
      "\t\tLaunched map tasks=25\n",
      "\t\tLaunched reduce tasks=11\n",
      "\t\tTotal megabyte-milliseconds taken by all map tasks=1439684640\n",
      "\t\tTotal megabyte-milliseconds taken by all reduce tasks=287236800\n",
      "\t\tTotal time spent by all map tasks (ms)=999781\n",
      "\t\tTotal time spent by all maps in occupied slots (ms)=44990145\n",
      "\t\tTotal time spent by all reduce tasks (ms)=99735\n",
      "\t\tTotal time spent by all reduces in occupied slots (ms)=8976150\n",
      "\t\tTotal vcore-milliseconds taken by all map tasks=999781\n",
      "\t\tTotal vcore-milliseconds taken by all reduce tasks=99735\n",
      "\tMap-Reduce Framework\n",
      "\t\tCPU time spent (ms)=293310\n",
      "\t\tCombine input records=41031\n",
      "\t\tCombine output records=16496\n",
      "\t\tFailed Shuffles=0\n",
      "\t\tGC time elapsed (ms)=17152\n",
      "\t\tInput split bytes=2256\n",
      "\t\tMap input records=231658\n",
      "\t\tMap output bytes=474235\n",
      "\t\tMap output materialized bytes=174382\n",
      "\t\tMap output records=41031\n",
      "\t\tMerged Map outputs=264\n",
      "\t\tPhysical memory (bytes) snapshot=17029435392\n",
      "\t\tReduce input groups=4685\n",
      "\t\tReduce input records=16496\n",
      "\t\tReduce output records=4685\n",
      "\t\tReduce shuffle bytes=174382\n",
      "\t\tShuffled Maps =264\n",
      "\t\tSpilled Records=32992\n",
      "\t\tTotal committed heap usage (bytes)=15976628224\n",
      "\t\tVirtual memory (bytes) snapshot=127197691904\n",
      "\tShuffle Errors\n",
      "\t\tBAD_ID=0\n",
      "\t\tCONNECTION=0\n",
      "\t\tIO_ERROR=0\n",
      "\t\tWRONG_LENGTH=0\n",
      "\t\tWRONG_MAP=0\n",
      "\t\tWRONG_REDUCE=0\n",
      "Waiting for Step 2 of 2 (s-GV17MSB0GPVX) to complete...\n",
      "  COMPLETED\n",
      "Attempting to fetch counters from logs...\n",
      "Looking for step log in /mnt/var/log/hadoop/steps/s-GV17MSB0GPVX on ec2-34-245-166-22.eu-west-1.compute.amazonaws.com...\n",
      "Looking for step log in s3://mrjob-8145e6962ded0a34/tmp/logs/j-1KJQ5O7654RXK/steps/s-GV17MSB0GPVX...\n",
      "  Parsing step log: s3://mrjob-8145e6962ded0a34/tmp/logs/j-1KJQ5O7654RXK/steps/s-GV17MSB0GPVX/syslog.gz\n",
      "Counters: 56\n",
      "\tFile Input Format Counters \n",
      "\t\tBytes Read=148839\n",
      "\tFile Output Format Counters \n",
      "\t\tBytes Written=368\n",
      "\tFile System Counters\n",
      "\t\tFILE: Number of bytes read=41772\n",
      "\t\tFILE: Number of bytes written=7193436\n",
      "\t\tFILE: Number of large read operations=0\n",
      "\t\tFILE: Number of read operations=0\n",
      "\t\tFILE: Number of write operations=0\n",
      "\t\tHDFS: Number of bytes read=154629\n",
      "\t\tHDFS: Number of bytes written=0\n",
      "\t\tHDFS: Number of large read operations=0\n",
      "\t\tHDFS: Number of read operations=60\n",
      "\t\tHDFS: Number of write operations=0\n",
      "\t\tS3: Number of bytes read=0\n",
      "\t\tS3: Number of bytes written=368\n",
      "\t\tS3: Number of large read operations=0\n",
      "\t\tS3: Number of read operations=0\n",
      "\t\tS3: Number of write operations=0\n",
      "\tJob Counters \n",
      "\t\tData-local map tasks=30\n",
      "\t\tKilled map tasks=1\n",
      "\t\tKilled reduce tasks=1\n",
      "\t\tLaunched map tasks=30\n",
      "\t\tLaunched reduce tasks=11\n",
      "\t\tTotal megabyte-milliseconds taken by all map tasks=1231444800\n",
      "\t\tTotal megabyte-milliseconds taken by all reduce tasks=526377600\n",
      "\t\tTotal time spent by all map tasks (ms)=855170\n",
      "\t\tTotal time spent by all maps in occupied slots (ms)=38482650\n",
      "\t\tTotal time spent by all reduce tasks (ms)=182770\n",
      "\t\tTotal time spent by all reduces in occupied slots (ms)=16449300\n",
      "\t\tTotal vcore-milliseconds taken by all map tasks=855170\n",
      "\t\tTotal vcore-milliseconds taken by all reduce tasks=182770\n",
      "\tMap-Reduce Framework\n",
      "\t\tCPU time spent (ms)=71660\n",
      "\t\tCombine input records=0\n",
      "\t\tCombine output records=0\n",
      "\t\tFailed Shuffles=0\n",
      "\t\tGC time elapsed (ms)=19031\n",
      "\t\tInput split bytes=5790\n",
      "\t\tMap input records=4685\n",
      "\t\tMap output bytes=96699\n",
      "\t\tMap output materialized bytes=57012\n",
      "\t\tMap output records=4685\n",
      "\t\tMerged Map outputs=330\n",
      "\t\tPhysical memory (bytes) snapshot=21458796544\n",
      "\t\tReduce input groups=4685\n",
      "\t\tReduce input records=4685\n",
      "\t\tReduce output records=10\n",
      "\t\tReduce shuffle bytes=57012\n",
      "\t\tShuffled Maps =330\n",
      "\t\tSpilled Records=9370\n",
      "\t\tTotal committed heap usage (bytes)=20610809856\n",
      "\t\tVirtual memory (bytes) snapshot=146922754048\n",
      "\tShuffle Errors\n",
      "\t\tBAD_ID=0\n",
      "\t\tCONNECTION=0\n",
      "\t\tIO_ERROR=0\n",
      "\t\tWRONG_LENGTH=0\n",
      "\t\tWRONG_MAP=0\n",
      "\t\tWRONG_REDUCE=0\n",
      "job output is in s3://baran-word-count/word_count_stripes_out/\n",
      "Removing s3 temp directory s3://mrjob-8145e6962ded0a34/tmp/word_count_stripes.Baran.20190414.135633.197043/...\n",
      "Removing temp directory /var/folders/r7/428czl1x409_xdrj8zycbkyh0000gn/T/word_count_stripes.Baran.20190414.135633.197043...\n",
      "Removing log files in s3://mrjob-8145e6962ded0a34/tmp/logs/j-1KJQ5O7654RXK/...\n",
      "Terminating cluster: j-1KJQ5O7654RXK\n"
     ]
    }
   ],
   "source": [
    "# Stripes\n",
    "!python word_count_stripes.py -r emr s3://baran-word-count/input/shortjokes.csv --output-dir=s3://baran-word-count/word_count_stripes_out --no-output"
   ]
  },
  {
   "cell_type": "markdown",
   "metadata": {},
   "source": [
    "## Running with optional arguments"
   ]
  },
  {
   "cell_type": "markdown",
   "metadata": {},
   "source": [
    "Word count files above can run with any given word argument. For example if we want to find top 10 words comes after word \"your\" we can find it running the command line below."
   ]
  },
  {
   "cell_type": "code",
   "execution_count": 7,
   "metadata": {},
   "outputs": [
    {
     "name": "stdout",
     "output_type": "stream",
     "text": [
      "Using configs in /Users/Baran/.mrjob.conf\n",
      "No configs specified for local runner\n",
      "Creating temp directory /var/folders/r7/428czl1x409_xdrj8zycbkyh0000gn/T/word_count_pairs.Baran.20190414.141849.134656\n",
      "Running step 1 of 2...\n",
      "Running step 2 of 2...\n",
      "job output is in word_count_out\n",
      "Removing temp directory /var/folders/r7/428czl1x409_xdrj8zycbkyh0000gn/T/word_count_pairs.Baran.20190414.141849.134656...\n"
     ]
    }
   ],
   "source": [
    "#Clean up the previous output folder\n",
    "!rm -rf word_count_out/\n",
    "#Running the script outputting to word_count_out/\n",
    "!python word_count_pairs.py -r local shortjokes.csv --searchword=your --output-dir=word_count_out --no-output"
   ]
  },
  {
   "cell_type": "code",
   "execution_count": 8,
   "metadata": {},
   "outputs": [
    {
     "name": "stdout",
     "output_type": "stream",
     "text": [
      "[\"your\", \"mom\"]\t0.024197624462977\r\n",
      "[\"your\", \"wife\"]\t0.017626990144048522\r\n",
      "[\"your\", \"girlfriend\"]\t0.01611068991660349\r\n",
      "[\"your\", \"face\"]\t0.0155420773313116\r\n",
      "[\"your\", \"life\"]\t0.01389941875157948\r\n",
      "[\"your\", \"mother\"]\t0.01269901440485216\r\n",
      "[\"your\", \"car\"]\t0.011372251705837756\r\n",
      "[\"your\", \"house\"]\t0.011372251705837756\r\n",
      "[\"your\", \"own\"]\t0.01124589335355067\r\n",
      "[\"your\", \"mouth\"]\t0.011119535001263583\r\n"
     ]
    }
   ],
   "source": [
    "# Output\n",
    "!cat word_count_out/part-00000"
   ]
  }
 ],
 "metadata": {
  "kernelspec": {
   "display_name": "Python 3",
   "language": "python",
   "name": "python3"
  },
  "language_info": {
   "codemirror_mode": {
    "name": "ipython",
    "version": 3
   },
   "file_extension": ".py",
   "mimetype": "text/x-python",
   "name": "python",
   "nbconvert_exporter": "python",
   "pygments_lexer": "ipython3",
   "version": "3.6.8"
  }
 },
 "nbformat": 4,
 "nbformat_minor": 2
}
